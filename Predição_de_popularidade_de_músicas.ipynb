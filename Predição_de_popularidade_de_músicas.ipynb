{
  "cells": [
    {
      "cell_type": "markdown",
      "metadata": {
        "id": "view-in-github",
        "colab_type": "text"
      },
      "source": [
        "<a href=\"https://colab.research.google.com/github/jonatahpfg/Machine-learning-estudos/blob/main/Predi%C3%A7%C3%A3o_de_popularidade_de_m%C3%BAsicas.ipynb\" target=\"_parent\"><img src=\"https://colab.research.google.com/assets/colab-badge.svg\" alt=\"Open In Colab\"/></a>"
      ]
    },
    {
      "cell_type": "code",
      "source": [
        "import pandas as pd\n",
        "from sklearn.model_selection import train_test_split\n",
        "from sklearn.linear_model import LinearRegression\n",
        "\n",
        "df = pd.read_csv('archive (6).zip')\n",
        "\n"
      ],
      "metadata": {
        "id": "KvkJdO65iwGS"
      },
      "execution_count": 431,
      "outputs": []
    },
    {
      "cell_type": "code",
      "source": [
        "df['release_date'] = df['release_date'].apply(lambda x: x[:4])\n",
        "df = df[df['popularity'] > 1]"
      ],
      "metadata": {
        "id": "ObEGqoiZi4Sx"
      },
      "execution_count": 432,
      "outputs": []
    },
    {
      "cell_type": "code",
      "source": [
        "x = df[['duration_ms', 'explicit', 'release_date', 'danceability','energy','speechiness', 'instrumentalness', 'loudness', 'acousticness','liveness', 'valence','tempo']]\n",
        "y =df['popularity']"
      ],
      "metadata": {
        "id": "Axl3DOx6pTB5"
      },
      "execution_count": 433,
      "outputs": []
    },
    {
      "cell_type": "code",
      "source": [
        "x_train, x_test, y_train, y_test = train_test_split(x, y, test_size=0.2, random_state = 42)\n",
        "\n",
        "# Criar um modelo de regressão linear\n",
        "model = LinearRegression()\n",
        "\n",
        "# Treinar o modelo usando os dados de treinamento\n",
        "model.fit(x_train, y_train)\n",
        "print(model.score(x_test,y_test)*100,\"%\")\n",
        "\n",
        "\n",
        "print(f\"Coeficientes: {model.coef_}\")\n"
      ],
      "metadata": {
        "colab": {
          "base_uri": "https://localhost:8080/"
        },
        "id": "moL4rqU3vOXb",
        "outputId": "33496e81-c5e3-4709-80a5-5e867c615ac8"
      },
      "execution_count": 434,
      "outputs": [
        {
          "output_type": "stream",
          "name": "stdout",
          "text": [
            "32.18602875122178 %\n",
            "Coeficientes: [ 2.14380121e-06  7.25506915e+00  4.09655506e-01  4.48117890e+00\n",
            " -4.23698042e+00 -9.65226875e-02 -2.91795913e+00  2.74451016e-01\n",
            " -3.82842594e+00 -2.94663728e+00 -2.99151801e+00 -2.56064454e-03]\n"
          ]
        }
      ]
    },
    {
      "cell_type": "code",
      "source": [
        "from sklearn.ensemble import RandomForestRegressor\n",
        "\n",
        "rfg_model = RandomForestRegressor()\n",
        "rfg_model.fit(x_train, y_train)\n",
        "\n",
        "print(rfg_model.score(x_test, y_test)*100,\"%\")"
      ],
      "metadata": {
        "colab": {
          "base_uri": "https://localhost:8080/"
        },
        "id": "uVNccTbPGKrm",
        "outputId": "77bafc25-fa19-4b69-f125-95806d8d8739"
      },
      "execution_count": 435,
      "outputs": [
        {
          "output_type": "stream",
          "name": "stdout",
          "text": [
            "44.80730228809545 %\n"
          ]
        }
      ]
    }
  ],
  "metadata": {
    "colab": {
      "provenance": [],
      "include_colab_link": true
    },
    "kernelspec": {
      "display_name": "Python 3",
      "name": "python3"
    }
  },
  "nbformat": 4,
  "nbformat_minor": 0
}